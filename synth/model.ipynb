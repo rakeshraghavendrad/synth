{
 "cells": [
  {
   "cell_type": "code",
   "execution_count": 15,
   "id": "b7b11c71",
   "metadata": {},
   "outputs": [
    {
     "data": {
      "text/plain": [
       "'On XX/XX/2022 my XXXX cell phone number was hacked and transferred to a prepaid phone.XXXX XXXX via Wells Fargo website.00} stolen.So they said they were about 3 hours away from us and asked us if we would be willing to send the money through XXXX and we said no that is way too risky and we got scammed using XXXX so they said would we be willing to send the money using XXXX through our bank of Wells Fargo.00}.'"
      ]
     },
     "execution_count": 15,
     "metadata": {},
     "output_type": "execute_result"
    }
   ],
   "source": [
    "import random\n",
    "import numpy as np\n",
    "import pandas as pd\n",
    "\n",
    "def get_model_output(complaint_type):\n",
    "    if complaint_type == 'Checking or savings account':\n",
    "        data = pd.read_csv('./New folder/Checking_or_savings_account.csv')\n",
    "    elif complaint_type == 'Mortgage':\n",
    "        data = pd.read_csv('./New folder/Mortgage.csv')\n",
    "    elif complaint_type == 'Credit card or pre paid card':\n",
    "        data = pd.read_csv('./New folder/Checking_or_savings_account.csv')\n",
    "    elif complaint_type == 'Money transfer, virtual currency, or money service':\n",
    "        data = pd.read_csv('./New folder/Money_transfer_virtual_currency_or_money_service.csv')\n",
    "    else:\n",
    "        return None\n",
    "    list_data = data['Consumer complaint narrative'].str.split(\".\").apply(lambda x : [y for y in x if y != ''])\n",
    "    list_data = pd.DataFrame(list_data.to_list())\n",
    "    sentence_length = np.random.binomial(list_data.shape[1], 0.02)\n",
    "    sentence = ''\n",
    "    for i in range(sentence_length):\n",
    "        sentence = sentence + random.choice(list(filter(None, list_data[i].to_list()))).strip() + '.'\n",
    "    \n",
    "    return sentence\n",
    "\n",
    "get_model_output('Money transfer, virtual currency, or money service')"
   ]
  },
  {
   "cell_type": "code",
   "execution_count": 13,
   "id": "4ab71950",
   "metadata": {},
   "outputs": [
    {
     "data": {
      "text/plain": [
       "'On XX/XX/2022, I was scammed out of {$3100.So we went to XXXX and found 3 tickets that seemed reasonable priced.I called Wells Fargo immediately and reported the unauthorized transaction.The notice listed : Loan # ending in : XXXX, Loan Date : XX/XX/XXXX, Borrowers XXXX XXXX XXXX and XXXX XXXX XXXX, Vehicle XXXX XXXX XXXX, VIN ending XXXX.00}.'"
      ]
     },
     "execution_count": 13,
     "metadata": {},
     "output_type": "execute_result"
    }
   ],
   "source": [
    "get_model_output('Money transfer, virtual currency, or money service')"
   ]
  },
  {
   "cell_type": "code",
   "execution_count": null,
   "id": "0c275080",
   "metadata": {},
   "outputs": [],
   "source": []
  }
 ],
 "metadata": {
  "kernelspec": {
   "display_name": "Python 3 (ipykernel)",
   "language": "python",
   "name": "python3"
  },
  "language_info": {
   "codemirror_mode": {
    "name": "ipython",
    "version": 3
   },
   "file_extension": ".py",
   "mimetype": "text/x-python",
   "name": "python",
   "nbconvert_exporter": "python",
   "pygments_lexer": "ipython3",
   "version": "3.9.7"
  }
 },
 "nbformat": 4,
 "nbformat_minor": 5
}
