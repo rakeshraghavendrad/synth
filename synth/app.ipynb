{
 "cells": [
  {
   "cell_type": "code",
   "execution_count": 1,
   "id": "86a7ad62",
   "metadata": {},
   "outputs": [
    {
     "name": "stdout",
     "output_type": "stream",
     "text": [
      " * Serving Flask app \"__main__\" (lazy loading)\n",
      " * Environment: production\n",
      "\u001b[31m   WARNING: This is a development server. Do not use it in a production deployment.\u001b[0m\n",
      "\u001b[2m   Use a production WSGI server instead.\u001b[0m\n",
      " * Debug mode: off\n"
     ]
    },
    {
     "name": "stderr",
     "output_type": "stream",
     "text": [
      " * Running on http://127.0.0.1:5000/ (Press CTRL+C to quit)\n",
      "127.0.0.1 - - [03/Mar/2023 10:42:40] \"GET / HTTP/1.1\" 200 -\n",
      "127.0.0.1 - - [03/Mar/2023 10:42:45] \"POST / HTTP/1.1\" 200 -\n",
      "127.0.0.1 - - [03/Mar/2023 10:42:55] \"POST / HTTP/1.1\" 200 -\n",
      "127.0.0.1 - - [03/Mar/2023 10:43:16] \"POST / HTTP/1.1\" 200 -\n",
      "127.0.0.1 - - [03/Mar/2023 10:43:18] \"POST / HTTP/1.1\" 200 -\n",
      "127.0.0.1 - - [03/Mar/2023 10:43:20] \"POST / HTTP/1.1\" 200 -\n",
      "127.0.0.1 - - [03/Mar/2023 10:43:24] \"POST / HTTP/1.1\" 200 -\n"
     ]
    }
   ],
   "source": [
    "from flask import Flask, request, render_template\n",
    "import pandas as pd\n",
    "import joblib\n",
    "import random\n",
    "import numpy as np\n",
    "import pandas as pd\n",
    "\n",
    "\n",
    "\n",
    "# Declare a Flask app\n",
    "app = Flask(__name__)\n",
    "\n",
    "# Main function here\n",
    "@app.route('/', methods=['GET', 'POST'])\n",
    "def main():\n",
    "    \n",
    "    # If a form is submitted\n",
    "    if request.method == \"POST\":\n",
    "        \n",
    "        # classifier\n",
    "        def get_model_output(complaint_type):\n",
    "            if complaint_type == 'Checking_or_savings_account':\n",
    "                data = pd.read_csv('./New folder/Checking_or_savings_account.csv')\n",
    "            elif complaint_type == 'Mortgage':\n",
    "                data = pd.read_csv('./New folder/Mortgage.csv')\n",
    "            elif complaint_type == 'Credit_card_or_pre_paid_card':\n",
    "                data = pd.read_csv('./New folder/Checking_or_savings_account.csv')\n",
    "            elif complaint_type == 'Money_transfer_virtual_currency_or_money_service':\n",
    "                data = pd.read_csv('./New folder/Money_transfer_virtual_currency_or_money_service.csv')\n",
    "            else:\n",
    "                return None\n",
    "            list_data = data['Consumer complaint narrative'].str.split(\".\").apply(lambda x : [y for y in x if y != ''])\n",
    "            list_data = pd.DataFrame(list_data.to_list())\n",
    "            sentence_length = np.random.binomial(list_data.shape[1], 0.02)\n",
    "            sentence = ''\n",
    "            for i in range(sentence_length):\n",
    "                sentence = sentence + random.choice(list(filter(None, list_data[i].to_list()))).strip() + '.'\n",
    "    \n",
    "            return sentence\n",
    "        \n",
    "        # Get values through input bars\n",
    "        height = request.form.get(\"height\")\n",
    "        #weight = request.form.get(\"weight\")\n",
    "        \n",
    "        # Put inputs to dataframe\n",
    "        #X = pd.DataFrame([[height, weight]], columns = [\"Height\", \"Weight\"])\n",
    "        \n",
    "        # Get prediction\n",
    "        prediction = get_model_output(str(height))\n",
    "        \n",
    "    else:\n",
    "        prediction = \"\"\n",
    "        \n",
    "    return render_template(\"website.html\", output = prediction)\n",
    "\n",
    "# Running the app\n",
    "if __name__ == '__main__':\n",
    "    app.run(debug = False)"
   ]
  },
  {
   "cell_type": "code",
   "execution_count": null,
   "id": "ba1476f1",
   "metadata": {},
   "outputs": [],
   "source": []
  }
 ],
 "metadata": {
  "kernelspec": {
   "display_name": "Python 3 (ipykernel)",
   "language": "python",
   "name": "python3"
  },
  "language_info": {
   "codemirror_mode": {
    "name": "ipython",
    "version": 3
   },
   "file_extension": ".py",
   "mimetype": "text/x-python",
   "name": "python",
   "nbconvert_exporter": "python",
   "pygments_lexer": "ipython3",
   "version": "3.9.7"
  }
 },
 "nbformat": 4,
 "nbformat_minor": 5
}
